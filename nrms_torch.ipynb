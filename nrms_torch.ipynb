{
 "cells": [
  {
   "cell_type": "markdown",
   "metadata": {},
   "source": [
    "## Global settings and imports"
   ]
  },
  {
   "cell_type": "code",
   "execution_count": 1,
   "metadata": {},
   "outputs": [
    {
     "name": "stderr",
     "output_type": "stream",
     "text": [
      "/home/miki/.local/lib/python3.10/site-packages/transformers/utils/generic.py:441: FutureWarning: `torch.utils._pytree._register_pytree_node` is deprecated. Please use `torch.utils._pytree.register_pytree_node` instead.\n",
      "  _torch_pytree._register_pytree_node(\n"
     ]
    },
    {
     "name": "stdout",
     "output_type": "stream",
     "text": [
      "Python version: 3.10.12\n",
      "PyTorch version: 2.4.1+cu124\n",
      "CUDA available: True\n",
      "Current GPU device: NVIDIA GeForce RTX 3060 Laptop GPU\n",
      "Number of GPUs available: 1\n"
     ]
    }
   ],
   "source": [
    "%load_ext autoreload\n",
    "%autoreload 2\n",
    "\n",
    "import sys\n",
    "import torch\n",
    "import pandas as pd\n",
    "import numpy as np\n",
    "from pathlib import Path\n",
    "import polars as pl\n",
    "import matplotlib.pyplot as plt\n",
    "import optuna\n",
    "from torch.nn.utils.rnn import pad_sequence\n",
    "from tqdm import tqdm\n",
    "from transformers import AutoTokenizer, AutoModel\n",
    "from sklearn.decomposition import PCA\n",
    "import torch\n",
    "from torch.utils.data import DataLoader\n",
    "\n",
    "import os\n",
    "\n",
    "from evaluation import MetricEvaluator, AucScore, NdcgScore, MrrScore\n",
    "\n",
    "from utils._constants import (\n",
    "    DEFAULT_HISTORY_ARTICLE_ID_COL,\n",
    "    DEFAULT_CLICKED_ARTICLES_COL,\n",
    "    DEFAULT_INVIEW_ARTICLES_COL,\n",
    "    DEFAULT_IMPRESSION_ID_COL,\n",
    "    DEFAULT_SUBTITLE_COL,\n",
    "    DEFAULT_TITLE_COL,\n",
    "    DEFAULT_USER_COL,\n",
    ")\n",
    "from utils._behaviors import (\n",
    "    create_binary_labels_column,\n",
    "    sampling_strategy_wu2019,\n",
    "    truncate_history,\n",
    ")\n",
    "from utils._polars import slice_join_dataframes\n",
    "from utils._articles import create_article_id_to_value_mapping\n",
    "from utils._nlp import generate_embeddings_with_transformers\n",
    "from utils._constants import DEFAULT_HISTORY_IMPRESSION_TIMESTAMP_COL, DEFAULT_IMPRESSION_TIMESTAMP_COL\n",
    "from utils._python import batch_items_generator\n",
    "\n",
    "from models_pytorch.NRMSDocVecModel import NRMSDocVecModel\n",
    "from models_pytorch.dataloader import NRMSDataSet\n",
    "from models_pytorch.model_config import hparams_nrms_torch\n",
    "\n",
    "# Check Python version\n",
    "print(f\"Python version: {sys.version.split()[0]}\")\n",
    "\n",
    "# Check PyTorch version\n",
    "print(f\"PyTorch version: {torch.__version__}\")\n",
    "\n",
    "# Check GPU availability\n",
    "print(f\"CUDA available: {torch.cuda.is_available()}\")\n",
    "\n",
    "if torch.cuda.is_available():\n",
    "    print(f\"Current GPU device: {torch.cuda.get_device_name()}\")\n",
    "    print(f\"Number of GPUs available: {torch.cuda.device_count()}\")"
   ]
  },
  {
   "cell_type": "markdown",
   "metadata": {},
   "source": [
    "## Prepare parameters"
   ]
  },
  {
   "cell_type": "code",
   "execution_count": 2,
   "metadata": {},
   "outputs": [],
   "source": [
    "seed = 42\n",
    "batch_size = 64\n",
    "\n",
    "# Options: demo, small, large\n",
    "MIND_type = 'demo'"
   ]
  },
  {
   "cell_type": "markdown",
   "metadata": {},
   "source": [
    "## Looking at behaviours and history"
   ]
  },
  {
   "cell_type": "markdown",
   "metadata": {},
   "source": [
    "## Download and load data"
   ]
  },
  {
   "cell_type": "code",
   "execution_count": 3,
   "metadata": {},
   "outputs": [
    {
     "name": "stdout",
     "output_type": "stream",
     "text": [
      "ebnerd_small\n"
     ]
    }
   ],
   "source": [
    "DATASPLIT = \"ebnerd_small\"\n",
    "PATH = Path(f\"./{DATASPLIT}\")  # Base path for your data directory\n",
    "print(PATH)"
   ]
  },
  {
   "cell_type": "code",
   "execution_count": 4,
   "metadata": {},
   "outputs": [
    {
     "data": {
      "text/html": [
       "<div><style>\n",
       ".dataframe > thead > tr,\n",
       ".dataframe > tbody > tr {\n",
       "  text-align: right;\n",
       "  white-space: pre-wrap;\n",
       "}\n",
       "</style>\n",
       "<small>shape: (2, 8)</small><table border=\"1\" class=\"dataframe\"><thead><tr><th>user_id</th><th>article_id_fixed</th><th>article_ids_inview</th><th>article_ids_clicked</th><th>impression_id</th><th>impression_time</th><th>impression_time_fixed</th><th>labels</th></tr><tr><td>u32</td><td>list[i32]</td><td>list[i64]</td><td>list[i64]</td><td>u32</td><td>datetime[μs]</td><td>list[datetime[μs]]</td><td>list[i8]</td></tr></thead><tbody><tr><td>2406042</td><td>[9759345, 9184908, … 9767363]</td><td>[9773962, 9193263, … 9774013]</td><td>[9773962]</td><td>34447285</td><td>2023-05-20 21:25:04</td><td>[2023-05-15 18:03:21, 2023-05-15 18:03:55, … 2023-05-17 19:48:06]</td><td>[1, 0, … 0]</td></tr><tr><td>1119007</td><td>[9741124, 9740612, … 9762145]</td><td>[9775785, 9575236, … 9575236]</td><td>[9775881]</td><td>10730680</td><td>2023-05-22 14:27:48</td><td>[2023-04-28 16:08:39, 2023-04-28 16:09:52, … 2023-05-12 15:26:23]</td><td>[0, 0, … 0]</td></tr></tbody></table></div>"
      ],
      "text/plain": [
       "shape: (2, 8)\n",
       "┌─────────┬────────────┬────────────┬────────────┬────────────┬────────────┬───────────┬───────────┐\n",
       "│ user_id ┆ article_id ┆ article_id ┆ article_id ┆ impression ┆ impression ┆ impressio ┆ labels    │\n",
       "│ ---     ┆ _fixed     ┆ s_inview   ┆ s_clicked  ┆ _id        ┆ _time      ┆ n_time_fi ┆ ---       │\n",
       "│ u32     ┆ ---        ┆ ---        ┆ ---        ┆ ---        ┆ ---        ┆ xed       ┆ list[i8]  │\n",
       "│         ┆ list[i32]  ┆ list[i64]  ┆ list[i64]  ┆ u32        ┆ datetime[μ ┆ ---       ┆           │\n",
       "│         ┆            ┆            ┆            ┆            ┆ s]         ┆ list[date ┆           │\n",
       "│         ┆            ┆            ┆            ┆            ┆            ┆ time[μs]] ┆           │\n",
       "╞═════════╪════════════╪════════════╪════════════╪════════════╪════════════╪═══════════╪═══════════╡\n",
       "│ 2406042 ┆ [9759345,  ┆ [9773962,  ┆ [9773962]  ┆ 34447285   ┆ 2023-05-20 ┆ [2023-05- ┆ [1, 0, …  │\n",
       "│         ┆ 9184908, … ┆ 9193263, … ┆            ┆            ┆ 21:25:04   ┆ 15        ┆ 0]        │\n",
       "│         ┆ 9767363]   ┆ 9774013]   ┆            ┆            ┆            ┆ 18:03:21, ┆           │\n",
       "│         ┆            ┆            ┆            ┆            ┆            ┆ 2023-05-… ┆           │\n",
       "│ 1119007 ┆ [9741124,  ┆ [9775785,  ┆ [9775881]  ┆ 10730680   ┆ 2023-05-22 ┆ [2023-04- ┆ [0, 0, …  │\n",
       "│         ┆ 9740612, … ┆ 9575236, … ┆            ┆            ┆ 14:27:48   ┆ 28        ┆ 0]        │\n",
       "│         ┆ 9762145]   ┆ 9575236]   ┆            ┆            ┆            ┆ 16:08:39, ┆           │\n",
       "│         ┆            ┆            ┆            ┆            ┆            ┆ 2023-04-… ┆           │\n",
       "└─────────┴────────────┴────────────┴────────────┴────────────┴────────────┴───────────┴───────────┘"
      ]
     },
     "execution_count": 4,
     "metadata": {},
     "output_type": "execute_result"
    }
   ],
   "source": [
    "def ebnerd_from_path(path: Path, history_size: int = 30) -> pl.DataFrame:\n",
    "    \"\"\"\n",
    "    Load ebnerd - function\n",
    "    \"\"\"\n",
    "    df_history = (\n",
    "        pl.scan_parquet(path.joinpath(\"history.parquet\"))\n",
    "        .select([\n",
    "            DEFAULT_USER_COL, \n",
    "            DEFAULT_HISTORY_ARTICLE_ID_COL,\n",
    "            DEFAULT_HISTORY_IMPRESSION_TIMESTAMP_COL\n",
    "        ])\n",
    "        .pipe(\n",
    "            truncate_history,\n",
    "            column=DEFAULT_HISTORY_ARTICLE_ID_COL,\n",
    "            history_size=history_size,\n",
    "            enable_warning=False,\n",
    "        )\n",
    "        .pipe(\n",
    "            truncate_history,\n",
    "            column=DEFAULT_HISTORY_IMPRESSION_TIMESTAMP_COL,\n",
    "            history_size=history_size,\n",
    "            enable_warning=False,\n",
    "        )\n",
    "    )\n",
    "    df_behaviors = (\n",
    "        pl.scan_parquet(path.joinpath(\"behaviors.parquet\"))\n",
    "        .collect()\n",
    "        .pipe(\n",
    "            slice_join_dataframes,\n",
    "            df2=df_history.collect(),\n",
    "            on=DEFAULT_USER_COL,\n",
    "            how=\"left\",\n",
    "        )\n",
    "    )\n",
    "    return df_behaviors\n",
    "\n",
    "COLUMNS = [\n",
    "    DEFAULT_USER_COL,\n",
    "    DEFAULT_HISTORY_ARTICLE_ID_COL,\n",
    "    DEFAULT_INVIEW_ARTICLES_COL,\n",
    "    DEFAULT_CLICKED_ARTICLES_COL,\n",
    "    DEFAULT_IMPRESSION_ID_COL,\n",
    "    DEFAULT_IMPRESSION_TIMESTAMP_COL,\n",
    "    DEFAULT_HISTORY_IMPRESSION_TIMESTAMP_COL\n",
    "]\n",
    "HISTORY_SIZE = hparams_nrms_torch.__dict__['history_size']\n",
    "FRACTION = 0.5\n",
    "\n",
    "df_train = (\n",
    "    ebnerd_from_path(PATH.joinpath(\"train\"), history_size=HISTORY_SIZE)\n",
    "    .select(COLUMNS)\n",
    "    .pipe(\n",
    "        sampling_strategy_wu2019,\n",
    "        npratio=4,\n",
    "        shuffle=True,\n",
    "        with_replacement=True,\n",
    "        seed=123,\n",
    "    )\n",
    "    .pipe(create_binary_labels_column)\n",
    "    .sample(fraction=FRACTION)\n",
    ")\n",
    "# =>\n",
    "df_validation = (\n",
    "    ebnerd_from_path(PATH.joinpath(\"validation\"), history_size=HISTORY_SIZE)\n",
    "    .select(COLUMNS)\n",
    "    .pipe(create_binary_labels_column)\n",
    "    .sample(fraction=FRACTION)\n",
    ")\n",
    "df_train.head(2)"
   ]
  },
  {
   "cell_type": "code",
   "execution_count": 5,
   "metadata": {},
   "outputs": [
    {
     "name": "stderr",
     "output_type": "stream",
     "text": [
      "/tmp/ipykernel_22241/1133741487.py:2: MapWithoutReturnDtypeWarning: Calling `map_elements` without specifying `return_dtype` can lead to unpredictable results. Specify `return_dtype` to silence this warning.\n",
      "  df_validation_filtered = df_validation.filter(\n"
     ]
    },
    {
     "data": {
      "image/png": "[encoded data removed]",
      "text/plain": [
       "<Figure size 1200x600 with 1 Axes>"
      ]
     },
     "metadata": {},
     "output_type": "display_data"
    },
    {
     "name": "stdout",
     "output_type": "stream",
     "text": [
      "Validation dataset sizes:\n",
      "Original: 122323 records\n",
      "Filtered: 115183 records\n",
      "Removed: 7140 records\n",
      "\n",
      "Training Data Statistics:\n",
      "Mean: 5.00\n",
      "Median: 5.00\n",
      "Min: 5\n",
      "Max: 5\n",
      "\n",
      "Filtered Validation Data Statistics:\n",
      "Mean: 10.21\n",
      "Median: 8.00\n",
      "Min: 5\n",
      "Max: 28\n"
     ]
    }
   ],
   "source": [
    "# Filter validation data\n",
    "df_validation_filtered = df_validation.filter(\n",
    "    pl.col(DEFAULT_INVIEW_ARTICLES_COL).map_elements(lambda x: len(x) <= 28)\n",
    ")\n",
    "\n",
    "# Calculate distributions\n",
    "train_lengths = [len(row) for row in df_train[DEFAULT_INVIEW_ARTICLES_COL]]\n",
    "valid_lengths = [len(row) for row in df_validation_filtered[DEFAULT_INVIEW_ARTICLES_COL]]\n",
    "\n",
    "# Create visualization\n",
    "plt.figure(figsize=(12, 6))\n",
    "plt.bar(pd.Series(train_lengths).value_counts().sort_index().index - 0.2, \n",
    "        pd.Series(train_lengths).value_counts().sort_index().values, \n",
    "        width=0.4, label='Training', alpha=0.6)\n",
    "plt.bar(pd.Series(valid_lengths).value_counts().sort_index().index + 0.2, \n",
    "        pd.Series(valid_lengths).value_counts().sort_index().values, \n",
    "        width=0.4, label='Validation', alpha=0.6)\n",
    "\n",
    "plt.xlabel('Number of Inview Articles')\n",
    "plt.ylabel('Frequency')\n",
    "plt.title('Distribution of Inview Article List Sizes (Validation ≤ 20)')\n",
    "plt.legend()\n",
    "plt.grid(True, alpha=0.3)\n",
    "plt.show()\n",
    "\n",
    "# Print summary statistics\n",
    "print(\"Validation dataset sizes:\")\n",
    "print(f\"Original: {len(df_validation)} records\")\n",
    "print(f\"Filtered: {len(df_validation_filtered)} records\")\n",
    "print(f\"Removed: {len(df_validation) - len(df_validation_filtered)} records\")\n",
    "\n",
    "print(\"\\nTraining Data Statistics:\")\n",
    "print(f\"Mean: {np.mean(train_lengths):.2f}\")\n",
    "print(f\"Median: {np.median(train_lengths):.2f}\")\n",
    "print(f\"Min: {min(train_lengths)}\")\n",
    "print(f\"Max: {max(train_lengths)}\")\n",
    "\n",
    "print(\"\\nFiltered Validation Data Statistics:\")\n",
    "print(f\"Mean: {np.mean(valid_lengths):.2f}\")\n",
    "print(f\"Median: {np.median(valid_lengths):.2f}\")\n",
    "print(f\"Min: {min(valid_lengths)}\")\n",
    "print(f\"Max: {max(valid_lengths)}\")"
   ]
  },
  {
   "cell_type": "code",
   "execution_count": 6,
   "metadata": {
    "vscode": {
     "languageId": "ruby"
    }
   },
   "outputs": [
    {
     "name": "stdout",
     "output_type": "stream",
     "text": [
      "Average length of article_ids_inview in df_train: 5.0\n",
      "Average length of article_ids_inview in df_validation: 11.971534380288253\n"
     ]
    }
   ],
   "source": [
    "def calculate_average_length(df, column):\n",
    "    total_length = sum(len(row) for row in df[column])\n",
    "    average_length = total_length / len(df)\n",
    "    return average_length\n",
    "\n",
    "# Calculate average length for df_train\n",
    "average_length_inview_train = calculate_average_length(df_train, DEFAULT_INVIEW_ARTICLES_COL)\n",
    "print(f\"Average length of article_ids_inview in df_train: {average_length_inview_train}\")\n",
    "\n",
    "# Calculate average length for df_validation\n",
    "average_length_inview_validation = calculate_average_length(df_validation, DEFAULT_INVIEW_ARTICLES_COL)\n",
    "print(f\"Average length of article_ids_inview in df_validation: {average_length_inview_validation}\")"
   ]
  },
  {
   "cell_type": "code",
   "execution_count": 7,
   "metadata": {},
   "outputs": [
    {
     "name": "stdout",
     "output_type": "stream",
     "text": [
      "Longest inview article length in df_train: 5\n",
      "Longest inview article length in df_validation: 99\n",
      "Longest history length in df_train: 50\n",
      "Longest history length in df_validation: 50\n"
     ]
    }
   ],
   "source": [
    "# Function to find the maximum length of arrays in a column\n",
    "def find_max_length(df, column):\n",
    "    max_length = 0\n",
    "    for row in df[column]:\n",
    "        max_length = max(max_length, len(row))\n",
    "    return max_length\n",
    "\n",
    "# Find the longest inview article length in df_train\n",
    "max_inview_length_train = find_max_length(df_train, DEFAULT_INVIEW_ARTICLES_COL)\n",
    "\n",
    "# Find the longest inview article length in df_validation\n",
    "max_inview_length_validation = find_max_length(df_validation, DEFAULT_INVIEW_ARTICLES_COL)\n",
    "\n",
    "print(f\"Longest inview article length in df_train: {max_inview_length_train}\")\n",
    "print(f\"Longest inview article length in df_validation: {max_inview_length_validation}\")\n",
    "\n",
    "max_history_length_train = find_max_length(df_train, DEFAULT_HISTORY_ARTICLE_ID_COL)\n",
    "max_history_length_validation = find_max_length(df_validation, DEFAULT_HISTORY_ARTICLE_ID_COL)\n",
    "\n",
    "print(f\"Longest history length in df_train: {max_history_length_train}\")\n",
    "print(f\"Longest history length in df_validation: {max_history_length_validation}\")"
   ]
  },
  {
   "cell_type": "code",
   "execution_count": 8,
   "metadata": {
    "vscode": {
     "languageId": "ruby"
    }
   },
   "outputs": [
    {
     "name": "stdout",
     "output_type": "stream",
     "text": [
      "Number of rows with exactly one clicked article in df_train: 117138\n",
      "Number of rows with exactly one clicked article in df_validation: 121634\n"
     ]
    }
   ],
   "source": [
    "# Function to filter rows with exactly one clicked article\n",
    "def filter_rows_with_one_clicked_article(df, clicked_articles_col):\n",
    "    # Manually filter rows where the array has exactly one element\n",
    "    filtered_rows = []\n",
    "    for row in df.iter_rows(named=True):\n",
    "        if len(row[clicked_articles_col]) == 1:\n",
    "            filtered_rows.append(row)\n",
    "    return pl.DataFrame(filtered_rows)\n",
    "\n",
    "\n",
    "# Filter rows in df_train and df_validation\n",
    "df_train = filter_rows_with_one_clicked_article(df_train, DEFAULT_CLICKED_ARTICLES_COL)\n",
    "df_validation = filter_rows_with_one_clicked_article(df_validation, DEFAULT_CLICKED_ARTICLES_COL)\n",
    "\n",
    "# Print the results\n",
    "print(f\"Number of rows with exactly one clicked article in df_train: {df_train.shape[0]}\")\n",
    "print(f\"Number of rows with exactly one clicked article in df_validation: {df_validation.shape[0]}\")\n"
   ]
  },
  {
   "cell_type": "markdown",
   "metadata": {},
   "source": [
    "## Embedding tokenized article title"
   ]
  },
  {
   "cell_type": "code",
   "execution_count": 9,
   "metadata": {},
   "outputs": [],
   "source": [
    "# Load the document vector parquet file\n",
    "document_vector_path = Path(\"Ekstra_Bladet_word2vec/document_vector.parquet\")\n",
    "df_document_vector = pl.read_parquet(document_vector_path)"
   ]
  },
  {
   "cell_type": "markdown",
   "metadata": {},
   "source": [
    "## Reduce dimensionality of embeddings"
   ]
  },
  {
   "cell_type": "code",
   "execution_count": 10,
   "metadata": {},
   "outputs": [
    {
     "name": "stdout",
     "output_type": "stream",
     "text": [
      "Original vector shape: (125541, 300)\n",
      "\n",
      "Dimensionality Reduction to 24 dimensions:\n",
      "Explained variance ratio (PCA): 62.99%\n",
      "Shape after reduction: (125541, 24)\n",
      "\n",
      "Dimensionality Reduction to 32 dimensions:\n",
      "Explained variance ratio (PCA): 67.51%\n",
      "Shape after reduction: (125541, 32)\n",
      "\n",
      "Dimensionality Reduction to 64 dimensions:\n",
      "Explained variance ratio (PCA): 78.02%\n",
      "Shape after reduction: (125541, 64)\n",
      "\n",
      "Dimensionality Reduction to 128 dimensions:\n",
      "Explained variance ratio (PCA): 88.32%\n",
      "Shape after reduction: (125541, 128)\n",
      "\n",
      "Dimensionality Reduction to 150 dimensions:\n",
      "Explained variance ratio (PCA): 90.72%\n",
      "Shape after reduction: (125541, 150)\n",
      "\n",
      "Dimensionality Reduction to 200 dimensions:\n",
      "Explained variance ratio (PCA): 94.98%\n",
      "Shape after reduction: (125541, 200)\n",
      "\n",
      "Dimensionality Reduction to 256 dimensions:\n",
      "Explained variance ratio (PCA): 98.40%\n",
      "Shape after reduction: (125541, 256)\n",
      "\n",
      "Chosen dimension: 150\n",
      "Explained variance ratio: 90.72%\n"
     ]
    }
   ],
   "source": [
    "def reduce_and_analyze_dimensionality(embeddings_array, target_dims=[24, 32, 64, 128, 150, 200, 256]):\n",
    "    \"\"\"\n",
    "    Reduce dimensionality using different methods and analyze information retention\n",
    "    \"\"\"\n",
    "    results = {}\n",
    "    \n",
    "    # PCA Analysis for different dimensions\n",
    "    for dim in target_dims:\n",
    "        # PCA\n",
    "        pca = PCA(n_components=dim)\n",
    "        reduced_data_pca = pca.fit_transform(embeddings_array)\n",
    "        \n",
    "        # Calculate explained variance ratio\n",
    "        explained_var = np.sum(pca.explained_variance_ratio_) * 100\n",
    "        \n",
    "        results[dim] = {\n",
    "            'method': 'PCA',\n",
    "            'explained_variance_ratio': explained_var,\n",
    "            'reduced_data': reduced_data_pca\n",
    "        }\n",
    "        \n",
    "        print(f\"\\nDimensionality Reduction to {dim} dimensions:\")\n",
    "        print(f\"Explained variance ratio (PCA): {explained_var:.2f}%\")\n",
    "        print(f\"Shape after reduction: {reduced_data_pca.shape}\")\n",
    "\n",
    "    return results\n",
    "\n",
    "# Convert document vectors to numpy array\n",
    "vectors = np.stack(df_document_vector['document_vector'].to_list())\n",
    "print(\"Original vector shape:\", vectors.shape)\n",
    "\n",
    "# Analyze different dimensionality reductions\n",
    "reduction_results = reduce_and_analyze_dimensionality(vectors)\n",
    "\n",
    "# Based on the analysis results, choose your preferred dimension\n",
    "# For example, if you want 90% variance explained while minimizing dimensions:\n",
    "chosen_dim = hparams_nrms_torch.__dict__['embedding_dim']\n",
    "\n",
    "print(f\"\\nChosen dimension: {chosen_dim}\")\n",
    "print(f\"Explained variance ratio: {reduction_results[chosen_dim]['explained_variance_ratio']:.2f}%\")\n",
    "\n",
    "# Reduce to chosen dimension\n",
    "pca = PCA(n_components=chosen_dim)\n",
    "reduced_vectors = pca.fit_transform(vectors)\n",
    "\n",
    "# Update DataFrame with reduced vectors\n",
    "df_document_vector = df_document_vector.with_columns(\n",
    "    pl.Series('document_vector', reduced_vectors.tolist())\n",
    ")\n",
    "\n",
    "# Create new mapping with reduced vectors\n",
    "article_mapping = create_article_id_to_value_mapping(\n",
    "    df=df_document_vector,\n",
    "    value_col='document_vector'\n",
    ")"
   ]
  },
  {
   "cell_type": "markdown",
   "metadata": {},
   "source": [
    "# Init dataloaders\n",
    "\n"
   ]
  },
  {
   "cell_type": "code",
   "execution_count": 11,
   "metadata": {},
   "outputs": [
    {
     "name": "stdout",
     "output_type": "stream",
     "text": [
      "Starting preprocessing...\n",
      "Preprocessing data...\n",
      "(117138, 8)\n",
      "Data preprocessing completed in 35.35 seconds.\n",
      "Starting preprocessing...\n",
      "Preprocessing data...\n",
      "(121634, 8)\n",
      "Data preprocessing completed in 39.98 seconds.\n"
     ]
    }
   ],
   "source": [
    "train_dataset = NRMSDataSet(\n",
    "    behaviors=df_train,\n",
    "    article_dict=article_mapping,\n",
    "    unknown_representation=\"zeros\",\n",
    "    eval_mode=False,\n",
    ")\n",
    "\n",
    "val_dataset = NRMSDataSet(\n",
    "    behaviors=df_validation,\n",
    "    article_dict=article_mapping,\n",
    "    unknown_representation=\"zeros\",\n",
    "    eval_mode=True,\n",
    ")"
   ]
  },
  {
   "cell_type": "code",
   "execution_count": 12,
   "metadata": {},
   "outputs": [],
   "source": [
    "def collate_fn_with_global_padding(batch, max_len_pred, apply_padding_to_targets=True):\n",
    "    try:\n",
    "        his_input_titles = [item[0][0] for item in batch]\n",
    "        his_timestamps = [item[0][1] for item in batch]\n",
    "        pred_input_titles = [item[0][2] for item in batch]\n",
    "        batch_ys = [item[1] for item in batch]\n",
    "        impression_id = torch.tensor([item[2] for item in batch], dtype=torch.int64)\n",
    "\n",
    "        # Pad sequences\n",
    "        his_input_titles_padded = pad_sequence(his_input_titles, batch_first=True, padding_value=0)\n",
    "        his_timestamps_padded = pad_sequence(his_timestamps, batch_first=True, padding_value=0)\n",
    "        pred_input_titles_padded = pad_sequence(pred_input_titles, batch_first=True, padding_value=0)\n",
    "        \n",
    "        if pred_input_titles_padded.size(1) < max_len_pred:\n",
    "            pad_size = max_len_pred - pred_input_titles_padded.size(1)\n",
    "            pred_input_titles_padded = torch.nn.functional.pad(\n",
    "                pred_input_titles_padded, (0, 0, 0, pad_size), value=0\n",
    "            )\n",
    "        elif pred_input_titles_padded.size(1) > max_len_pred:\n",
    "            pred_input_titles_padded = pred_input_titles_padded[:, :max_len_pred, :]\n",
    "\n",
    "        if apply_padding_to_targets:\n",
    "            batch_ys_padded = pad_sequence(batch_ys, batch_first=True, padding_value=-1)\n",
    "            if batch_ys_padded.size(1) < max_len_pred:\n",
    "                pad_size = max_len_pred - batch_ys_padded.size(1)\n",
    "                batch_ys_padded = torch.nn.functional.pad(\n",
    "                    batch_ys_padded, (0, pad_size), value=-1\n",
    "                )\n",
    "            elif batch_ys_padded.size(1) > max_len_pred:\n",
    "                batch_ys_padded = batch_ys_padded[:, :max_len_pred]\n",
    "            return (his_input_titles_padded, his_timestamps_padded, pred_input_titles_padded), batch_ys_padded, impression_id\n",
    "        else:\n",
    "            return (his_input_titles_padded, his_timestamps_padded, pred_input_titles_padded), batch_ys, impression_id\n",
    "    except Exception as e:\n",
    "        print(f\"Error in collate_fn: {e}\")\n",
    "        raise\n"
   ]
  },
  {
   "cell_type": "code",
   "execution_count": 13,
   "metadata": {},
   "outputs": [],
   "source": [
    "# Wrap the dataset with DataLoader\n",
    "train_dataloader_temp = DataLoader(\n",
    "    train_dataset,\n",
    "    batch_size=64,    # Set your desired batch size\n",
    "    shuffle=True,\n",
    "    num_workers=0,\n",
    "    collate_fn=lambda batch: collate_fn_with_global_padding(batch, max_inview_length_validation)\n",
    ")\n",
    "\n",
    "val_dataloader_temp = DataLoader(\n",
    "    val_dataset,\n",
    "    batch_size=64,    # Set your desired batch size\n",
    "    shuffle=False,\n",
    "    num_workers=0,\n",
    "    collate_fn=lambda batch: collate_fn_with_global_padding(batch, max_inview_length_validation)\n",
    ")"
   ]
  },
  {
   "cell_type": "code",
   "execution_count": 14,
   "metadata": {},
   "outputs": [
    {
     "name": "stdout",
     "output_type": "stream",
     "text": [
      "tensor([[ 0.0052,  0.1612,  0.1213,  ...,  0.0156,  0.0043, -0.0207],\n",
      "        [ 0.1284, -0.0301, -0.3351,  ...,  0.0027,  0.0009,  0.0068],\n",
      "        [ 0.1284, -0.0301, -0.3351,  ...,  0.0027,  0.0009,  0.0068],\n",
      "        ...,\n",
      "        [-0.0529,  0.1543,  0.1461,  ..., -0.0147,  0.0043,  0.0010],\n",
      "        [ 0.0562, -0.1907, -0.1243,  ...,  0.0107, -0.0126, -0.0127],\n",
      "        [-0.0529,  0.1543,  0.1461,  ..., -0.0147,  0.0043,  0.0010]])\n",
      "tensor([687360., 687360., 621952., 621952., 621952., 621824., 621568., 621568.,\n",
      "        621568., 621440., 621440., 621312., 621312., 621312., 621184., 621184.,\n",
      "        605440., 605440., 605440., 605440., 605312., 605184., 605184., 605056.,\n",
      "        605056., 605056., 605056., 605056., 605056., 605056., 604928., 604928.,\n",
      "        604928., 604800., 604800., 604800., 604800., 561664., 487424., 487424.,\n",
      "        487424., 487424., 487424., 487296., 487168., 487040., 487040., 486912.,\n",
      "        486912., 486784.])\n",
      "tensor([[ 1.3786e-01, -1.5155e-02, -1.7524e-01,  ...,  3.6361e-03,\n",
      "          1.1164e-02,  3.0042e-03],\n",
      "        [ 5.1905e-02,  1.0525e-01,  9.0213e-02,  ...,  3.9660e-03,\n",
      "          9.6097e-03,  4.4541e-05],\n",
      "        [ 1.6537e-01, -1.2885e-01,  7.3328e-02,  ...,  1.6315e-02,\n",
      "         -3.8531e-03,  2.0261e-02],\n",
      "        ...,\n",
      "        [ 0.0000e+00,  0.0000e+00,  0.0000e+00,  ...,  0.0000e+00,\n",
      "          0.0000e+00,  0.0000e+00],\n",
      "        [ 0.0000e+00,  0.0000e+00,  0.0000e+00,  ...,  0.0000e+00,\n",
      "          0.0000e+00,  0.0000e+00],\n",
      "        [ 0.0000e+00,  0.0000e+00,  0.0000e+00,  ...,  0.0000e+00,\n",
      "          0.0000e+00,  0.0000e+00]])\n",
      "tensor([ 0.,  0.,  0.,  0.,  0.,  0.,  0.,  0.,  0.,  0.,  0.,  0.,  0.,  0.,\n",
      "         0.,  0.,  0.,  1.,  0.,  0.,  0.,  0.,  0., -1., -1., -1., -1., -1.,\n",
      "        -1., -1., -1., -1., -1., -1., -1., -1., -1., -1., -1., -1., -1., -1.,\n",
      "        -1., -1., -1., -1., -1., -1., -1., -1., -1., -1., -1., -1., -1., -1.,\n",
      "        -1., -1., -1., -1., -1., -1., -1., -1., -1., -1., -1., -1., -1., -1.,\n",
      "        -1., -1., -1., -1., -1., -1., -1., -1., -1., -1., -1., -1., -1., -1.,\n",
      "        -1., -1., -1., -1., -1., -1., -1., -1., -1., -1., -1., -1., -1., -1.,\n",
      "        -1.])\n",
      "Batch loaded successfully!\n",
      "torch.Size([64, 99, 150])\n",
      "torch.Size([64, 99])\n",
      "tensor([314431900, 287147139, 143692655, 352668968, 458772918,  15655255,\n",
      "        432324557, 316965472, 377500040, 180253051, 334320609, 243658044,\n",
      "        565949105, 253824847, 120957218, 385337940, 528650170, 280259061,\n",
      "        452138528, 538795394, 102517044, 460103277, 442235521, 367749137,\n",
      "        346723351, 252267244, 454242850, 375180740,  40616908, 295369838,\n",
      "        310168300, 469431366, 543472483, 522976837, 579693388, 486886549,\n",
      "        544803301, 349519418, 143696522,  65733589, 126257441, 526104321,\n",
      "        495956598, 196642365, 565694681, 252360095, 288620543, 453310875,\n",
      "         23595014, 446200610, 459961887, 232985380, 337259416, 503997475,\n",
      "        389306155, 125258379, 373262256, 418050393, 150777243, 179937253,\n",
      "        204542951,  15891633, 272203536, 254625084])\n",
      "Batch loaded successfully!\n"
     ]
    }
   ],
   "source": [
    "for batch in val_dataloader_temp:\n",
    "    (his_input_titles_padded, time_stamps, pred_input_titles_padded), batch_ys_padded, impression_id = batch\n",
    "    print(his_input_titles_padded[0])  # Look at one padded sequence\n",
    "    print(time_stamps[0])  # Look at one padded sequence\n",
    "    print(pred_input_titles_padded[0])  # Look at one padded sequence\n",
    "    print(batch_ys_padded[0])  # Look at one padded sequence\n",
    "\n",
    "    print(\"Batch loaded successfully!\")\n",
    "    break\n",
    "\n",
    "for batch in train_dataloader_temp:\n",
    "    (his_input_titles_padded, time_stamps, pred_input_titles_padded), batch_ys_padded, impression_id = batch\n",
    "    print(pred_input_titles_padded.shape)  # Look at one padded sequence\n",
    "    print(batch_ys_padded.shape)  # Look at one padded sequence\n",
    "    print(impression_id)\n",
    "\n",
    "    print(\"Batch loaded successfully!\")\n",
    "    break\n"
   ]
  },
  {
   "cell_type": "markdown",
   "metadata": {},
   "source": [
    "## Create the NRMS model"
   ]
  },
  {
   "cell_type": "code",
   "execution_count": 15,
   "metadata": {},
   "outputs": [],
   "source": [
    "\n",
    "# Define paths\n",
    "MODEL_NAME = \"NRMS\"\n",
    "LOG_DIR = os.path.join(\"downloads\", \"runs\", MODEL_NAME)\n",
    "MODEL_WEIGHTS = os.path.join(\"downloads\", \"data\", \"state_dict\", MODEL_NAME, \"weights.pth\")\n",
    "\n",
    "# Create directories if they don't exist\n",
    "os.makedirs(LOG_DIR, exist_ok=True)\n",
    "os.makedirs(os.path.dirname(MODEL_WEIGHTS), exist_ok=True)\n",
    "\n",
    "# Define ModelCheckpoint class\n",
    "class ModelCheckpoint:\n",
    "    \"\"\"Saves the model after every epoch if it has the best performance so far.\"\"\"\n",
    "    def __init__(self, filepath, verbose=False, save_best_only=True):\n",
    "        \"\"\"\n",
    "        Args:\n",
    "            filepath (str): Path to save the model checkpoint.\n",
    "            verbose (bool): If True, prints a message when the model is saved.\n",
    "            save_best_only (bool): If True, saves only when the model is better than before.\n",
    "        \"\"\"\n",
    "        self.filepath = filepath\n",
    "        self.verbose = verbose\n",
    "        self.save_best_only = save_best_only\n",
    "        self.best_loss = None\n",
    "\n",
    "    def __call__(self, model, val_loss):\n",
    "        if self.best_loss is None:\n",
    "            self.best_loss = val_loss\n",
    "            self.save_checkpoint(model)\n",
    "        elif val_loss < self.best_loss:\n",
    "            self.best_loss = val_loss\n",
    "            self.save_checkpoint(model)\n",
    "\n",
    "    def save_checkpoint(self, model):\n",
    "        torch.save(model.state_dict(), self.filepath)\n",
    "        if self.verbose:\n",
    "            print(f\"Model saved to {self.filepath}\")\n",
    "\n",
    "# Define EarlyStopping class\n",
    "class EarlyStopping:\n",
    "    \"\"\"Early stops the training if validation loss doesn't improve by a given percentage over a patience period.\"\"\"\n",
    "    def __init__(self, patience=3, min_delta=0.05, verbose=False):\n",
    "        \"\"\"\n",
    "        Args:\n",
    "            patience (int): Number of epochs to wait after last time validation loss improved by min_delta.\n",
    "            min_delta (float): Minimum percentage improvement required to reset patience.\n",
    "            verbose (bool): If True, prints a message when early stopping is triggered.\n",
    "        \"\"\"\n",
    "        self.patience = patience\n",
    "        self.min_delta = min_delta  # Minimum percentage improvement\n",
    "        self.verbose = verbose\n",
    "        self.counter = 0\n",
    "        self.best_loss = None\n",
    "        self.early_stop = False\n",
    "\n",
    "    def __call__(self, val_loss):\n",
    "        if self.best_loss is None:\n",
    "            # Initialize best_loss with the first validation loss\n",
    "            self.best_loss = val_loss\n",
    "            self.counter = 0\n",
    "        elif val_loss < self.best_loss * (1 - self.min_delta):\n",
    "            # Significant improvement found\n",
    "            self.best_loss = val_loss\n",
    "            self.counter = 0\n",
    "            if self.verbose:\n",
    "                print(f\"Validation loss improved by at least {self.min_delta*100:.1f}%\")\n",
    "        else:\n",
    "            # No significant improvement\n",
    "            self.counter += 1\n",
    "            if self.verbose:\n",
    "                print(f\"No significant improvement in validation loss. Counter: {self.counter}/{self.patience}\")\n",
    "            if self.counter >= self.patience:\n",
    "                self.early_stop = True"
   ]
  },
  {
   "cell_type": "markdown",
   "metadata": {},
   "source": [
    "## Hyperoptimization"
   ]
  },
  {
   "cell_type": "code",
   "execution_count": 16,
   "metadata": {},
   "outputs": [],
   "source": [
    "# NUM_EPOCHS = 100\n",
    "\n",
    "# def objective(trial):\n",
    "#     # Small search space for head_num and head_dim\n",
    "#     head_num = trial.suggest_categorical('head_num', [8, 16, 32])\n",
    "#     head_dim = trial.suggest_categorical('head_dim', [16, 32, 48, 64])\n",
    "    \n",
    "#     base_dim = head_num * head_dim\n",
    "    \n",
    "#     # attention_hidden_dim equals base_dim for simplicity\n",
    "#     attention_hidden_dim = base_dim\n",
    "    \n",
    "#     # units_per_layer chosen from [128, 256, 512]\n",
    "#     # One possible interpretation: choose each layer size from this set.\n",
    "#     units_per_layer = [\n",
    "#         trial.suggest_categorical(f'unit_layer_{i}', [128, 256, 512]) \n",
    "#         for i in range(3)\n",
    "#     ]\n",
    "    \n",
    "#     # Dropout discrete steps: [0.1, 0.2, 0.3, 0.4, 0.5]\n",
    "#     dropout = trial.suggest_categorical('dropout', [0.1, 0.2, 0.3, 0.4, 0.5])\n",
    "    \n",
    "#     # Learning rate: {1e-3, 1e-4, 1e-5}\n",
    "#     learning_rate = trial.suggest_categorical('learning_rate', [1e-3, 1e-4, 1e-5])\n",
    "    \n",
    "#     # Weight decay: {1e-3, 1e-4}\n",
    "#     weight_decay = trial.suggest_categorical('weight_decay', [1e-3, 1e-4])\n",
    "    \n",
    "#     hparams_optimize = {\n",
    "#         'head_num': head_num,\n",
    "#         'head_dim': head_dim,\n",
    "#         'attention_hidden_dim': attention_hidden_dim,\n",
    "#         'embedding_dim': 24,  # Assume fixed embedding dimension\n",
    "#         'dropout': dropout,\n",
    "#         'learning_rate': learning_rate,\n",
    "#         'news_output_dim': base_dim,\n",
    "#         'units_per_layer': units_per_layer,\n",
    "#         'weight_decay': weight_decay,\n",
    "#         'history_size': 50,  # can be fixed or chosen from a small set if desired\n",
    "#     }\n",
    "\n",
    "#     # Initialize model and training components\n",
    "#     model = NRMSDocVecModel(hparams=hparams_optimize, device=device)\n",
    "#     criterion = model.get_loss().to(device)\n",
    "#     optimizer = optim.Adam(\n",
    "#         model.parameters(), \n",
    "#         lr=hparams_optimize['learning_rate'], \n",
    "#         weight_decay=hparams_optimize['weight_decay']\n",
    "#     )\n",
    "    \n",
    "#     early_stopping = EarlyStopping(patience=5, min_delta=0.03, verbose=True)\n",
    "#     best_val_loss = float('inf')\n",
    "\n",
    "#     for epoch in range(NUM_EPOCHS):\n",
    "#         model.train()\n",
    "#         train_loss = train_one_epoch(model, train_dataloader_temp, optimizer, criterion)\n",
    "        \n",
    "#         model.eval()\n",
    "#         val_loss = validate(model, val_dataloader_temp, criterion)\n",
    "        \n",
    "#         if val_loss < best_val_loss:\n",
    "#             best_val_loss = val_loss\n",
    "\n",
    "#         early_stopping(val_loss)\n",
    "#         if early_stopping.early_stop:\n",
    "#             print(f\"Early stopping triggered at epoch {epoch}\")\n",
    "#             break\n",
    "\n",
    "#         trial.report(val_loss, epoch)\n",
    "#         if trial.should_prune():\n",
    "#             raise optuna.TrialPruned()\n",
    "\n",
    "#     return best_val_loss\n",
    "\n",
    "\n",
    "\n",
    "# def train_one_epoch(model, dataloader, optimizer, criterion):\n",
    "#     running_loss = 0.0\n",
    "#     batch_count = 0\n",
    "    \n",
    "#     for inputs, targets, impression_ids in dataloader:\n",
    "#         inputs = [inp.to(device) for inp in inputs]\n",
    "#         targets = targets.to(device)\n",
    "#         positive_indices = (targets == 1).nonzero(as_tuple=False)\n",
    "#         targets = positive_indices[:, 1].long()\n",
    "        \n",
    "#         optimizer.zero_grad()\n",
    "#         outputs = model(*inputs)\n",
    "#         loss = criterion(outputs, targets)\n",
    "#         loss.backward()\n",
    "#         optimizer.step()\n",
    "        \n",
    "#         running_loss += loss.item()\n",
    "#         batch_count += 1\n",
    "    \n",
    "#     return running_loss / batch_count\n",
    "\n",
    "# def validate(model, dataloader, criterion):\n",
    "#     model.eval()\n",
    "#     val_loss = 0.0\n",
    "#     batch_count = 0\n",
    "    \n",
    "#     with torch.no_grad():\n",
    "#         for inputs, targets, impression_ids in dataloader:\n",
    "#             inputs = [inp.to(device) for inp in inputs]\n",
    "#             targets = targets.to(device)\n",
    "#             positive_indices = (targets == 1).nonzero(as_tuple=False)\n",
    "#             targets = positive_indices[:, 1].long()\n",
    "#             outputs = model(*inputs)\n",
    "#             loss = criterion(outputs, targets)\n",
    "#             val_loss += loss.item()\n",
    "#             batch_count += 1\n",
    "    \n",
    "#     return val_loss / batch_count\n",
    "\n",
    "# # Create study and optimize\n",
    "# study = optuna.create_study(direction='minimize')\n",
    "# try:\n",
    "#     study.optimize(objective, n_trials=50)  # Run 50 trials\n",
    "# except (KeyboardInterrupt, Exception) as e:\n",
    "#     print(f\"\\nOptimization stopped: {e}\")\n",
    "\n",
    "# # Print results of best trial even if interrupted\n",
    "# if study.trials:  # Check if we have any completed trials\n",
    "#     print(\"\\nBest trial so far:\")\n",
    "#     trial = study.best_trial\n",
    "#     print(\"  Value: \", trial.value)\n",
    "#     print(\"  Params: \")\n",
    "#     for key, value in trial.params.items():\n",
    "#         print(f\"    {key}: {value}\")\n",
    "# else:\n",
    "#     print(\"No trials were completed before interruption\")"
   ]
  },
  {
   "cell_type": "markdown",
   "metadata": {},
   "source": [
    "## Train the NRMS model"
   ]
  },
  {
   "cell_type": "code",
   "execution_count": 17,
   "metadata": {},
   "outputs": [
    {
     "name": "stdout",
     "output_type": "stream",
     "text": [
      "Using device: cuda\n",
      "Model device: cuda:0\n",
      "learning rate:  0.0001\n"
     ]
    },
    {
     "name": "stderr",
     "output_type": "stream",
     "text": [
      "/home/miki/Study/2_second/deep learning/Deeplearning-RecSys-Challenge-2024/models_pytorch/NRMSDocVecModel.py:181: FutureWarning: `torch.cuda.amp.GradScaler(args...)` is deprecated. Please use `torch.amp.GradScaler('cuda', args...)` instead.\n",
      "  self.scaler = amp.GradScaler()\n",
      "Training Progress:   0%|          | 0/30 [00:00<?, ?it/s]/home/miki/Study/2_second/deep learning/Deeplearning-RecSys-Challenge-2024/models_pytorch/NRMSDocVecModel.py:190: FutureWarning: `torch.cuda.amp.autocast(args...)` is deprecated. Please use `torch.amp.autocast('cuda', args...)` instead.\n",
      "  with torch.cuda.amp.autocast(enabled=False):\n",
      "Training Progress:   7%|▋         | 2/30 [02:00<28:09, 60.34s/it, train_loss=1.4186, val_loss=2.2991]"
     ]
    },
    {
     "name": "stdout",
     "output_type": "stream",
     "text": [
      "No significant improvement in validation loss. Counter: 1/3\n"
     ]
    },
    {
     "name": "stderr",
     "output_type": "stream",
     "text": [
      "Training Progress:  10%|█         | 3/30 [03:01<27:22, 60.83s/it, train_loss=1.3861, val_loss=2.2891]"
     ]
    },
    {
     "name": "stdout",
     "output_type": "stream",
     "text": [
      "No significant improvement in validation loss. Counter: 2/3\n"
     ]
    },
    {
     "name": "stderr",
     "output_type": "stream",
     "text": [
      "Training Progress:  10%|█         | 3/30 [04:02<36:21, 80.80s/it, train_loss=1.3654, val_loss=2.2637]"
     ]
    },
    {
     "name": "stdout",
     "output_type": "stream",
     "text": [
      "No significant improvement in validation loss. Counter: 3/3\n",
      "Early stopping triggered. Stopping training.\n"
     ]
    },
    {
     "name": "stderr",
     "output_type": "stream",
     "text": [
      "\n"
     ]
    }
   ],
   "source": [
    "# Initialize callbacks\n",
    "model_checkpoint = ModelCheckpoint(filepath=MODEL_WEIGHTS, verbose=True, save_best_only=True)\n",
    "# Initialize EarlyStopping\n",
    "early_stopping = EarlyStopping(patience=3, min_delta=0.02, verbose=True)\n",
    "\n",
    "if torch.cuda.is_available():\n",
    "    device = torch.device(\"cuda\")\n",
    "elif torch.backends.mps.is_available():\n",
    "    device = torch.device(\"mps\")\n",
    "else:\n",
    "    device = torch.device(\"cpu\")\n",
    "    \n",
    "print(f\"Using device: {device}\")\n",
    "\n",
    "model = NRMSDocVecModel(hparams=hparams_nrms_torch.__dict__,\n",
    "                        device=device)\n",
    "print(f\"Model device: {next(model.parameters()).device}\")\n",
    "\n",
    "NUM_EPOCHS = 30\n",
    "\n",
    "# Define loss function and optimizer\n",
    "criterion = model.get_loss().to(device)\n",
    "optimizer = model.get_optimizer(hparams_nrms=hparams_nrms_torch)\n",
    "\n",
    "# Training parameters\n",
    "train_losses, val_losses = [], []\n",
    "\n",
    "# Epoch progress bar\n",
    "epoch_pbar = tqdm(range(1, NUM_EPOCHS + 1), desc=\"Training Progress\", dynamic_ncols=True)\n",
    "for epoch in epoch_pbar:\n",
    "    # Training phase\n",
    "    model.train()\n",
    "    running_loss = 0.0\n",
    "    train_batch_count = 0\n",
    "\n",
    "    for batch_idx, (inputs, targets, impression_ids) in enumerate(train_dataloader_temp):\n",
    "        # Prepare data\n",
    "        inputs = [inp.to(device) for inp in inputs]\n",
    "        targets = targets.to(device)\n",
    "\n",
    "        # Get positive labels\n",
    "        positive_indices = (targets == 1).nonzero(as_tuple=False)\n",
    "        targets = positive_indices[:, 1].long()\n",
    "\n",
    "        # Forward and backward passes\n",
    "        optimizer.zero_grad()\n",
    "        outputs = model(*inputs)\n",
    "        loss = criterion(outputs, targets)\n",
    "        loss.backward()\n",
    "        optimizer.step()\n",
    "\n",
    "        # Update running statistics\n",
    "        running_loss += loss.item()\n",
    "        train_batch_count += 1\n",
    "\n",
    "    # Compute average training loss\n",
    "    avg_train_loss = running_loss / train_batch_count if train_batch_count > 0 else float('inf')\n",
    "    train_losses.append(avg_train_loss)\n",
    "\n",
    "    # Validation phase\n",
    "    model.eval()\n",
    "    val_loss = 0.0\n",
    "    val_batch_count = 0\n",
    "    with torch.no_grad():\n",
    "        for inputs, targets, impression_ids in val_dataloader_temp:\n",
    "            inputs = [inp.to(device) for inp in inputs]\n",
    "            targets = targets.to(device)\n",
    "            positive_indices = (targets == 1).nonzero(as_tuple=False)\n",
    "            targets = positive_indices[:, 1].long()\n",
    "            outputs = model(*inputs)\n",
    "            loss = criterion(outputs, targets)\n",
    "\n",
    "            val_loss += loss.item()\n",
    "            val_batch_count += 1\n",
    "\n",
    "    avg_val_loss = val_loss / val_batch_count if val_batch_count > 0 else float('inf')\n",
    "    val_losses.append(avg_val_loss)\n",
    "\n",
    "    # Update epoch progress bar with metrics\n",
    "    epoch_pbar.set_postfix({\n",
    "        'train_loss': f'{avg_train_loss:.4f}',\n",
    "        'val_loss': f'{avg_val_loss:.4f}',\n",
    "    })\n",
    "\n",
    "    # Save checkpoint\n",
    "    if epoch % 10 == 0:\n",
    "        model_checkpoint(model, avg_val_loss)\n",
    "\n",
    "    # Check early stopping condition\n",
    "    early_stopping(avg_val_loss)\n",
    "    if early_stopping.early_stop:\n",
    "        print(\"Early stopping triggered. Stopping training.\")\n",
    "        break  # Exit the training loop\n"
   ]
  },
  {
   "cell_type": "markdown",
   "metadata": {},
   "source": []
  },
  {
   "cell_type": "code",
   "execution_count": 18,
   "metadata": {},
   "outputs": [
    {
     "data": {
      "image/png": "[encoded data removed]",
      "text/plain": [
       "<Figure size 1000x600 with 1 Axes>"
      ]
     },
     "metadata": {},
     "output_type": "display_data"
    },
    {
     "name": "stdout",
     "output_type": "stream",
     "text": [
      "\n",
      "Training Summary:\n",
      "Initial Training Loss: 1.5909\n",
      "Final Training Loss: 1.3654\n",
      "Best Training Loss: 1.3654\n",
      "\n",
      "Initial Validation Loss: 2.2688\n",
      "Final Validation Loss: 2.2637\n",
      "Best Validation Loss: 2.2637\n"
     ]
    }
   ],
   "source": [
    "# Plot the losses\n",
    "plt.figure(figsize=(10, 6))\n",
    "plt.plot(range(1, len(train_losses) + 1), train_losses, label='Training Loss')\n",
    "plt.plot(range(1, len(val_losses) + 1), val_losses, label='Validation Loss')\n",
    "plt.xlabel('Epoch')\n",
    "plt.ylabel('Loss')\n",
    "plt.title('Training and Validation Losses')\n",
    "plt.legend()\n",
    "plt.grid(True)\n",
    "plt.show()\n",
    "\n",
    "# Print final statistics\n",
    "print(\"\\nTraining Summary:\")\n",
    "print(f\"Initial Training Loss: {train_losses[0]:.4f}\")\n",
    "print(f\"Final Training Loss: {train_losses[-1]:.4f}\")\n",
    "print(f\"Best Training Loss: {min(train_losses):.4f}\")\n",
    "print(f\"\\nInitial Validation Loss: {val_losses[0]:.4f}\")\n",
    "print(f\"Final Validation Loss: {val_losses[-1]:.4f}\")\n",
    "print(f\"Best Validation Loss: {min(val_losses):.4f}\")"
   ]
  },
  {
   "cell_type": "markdown",
   "metadata": {},
   "source": [
    "## Evaluate the model"
   ]
  },
  {
   "cell_type": "code",
   "execution_count": 19,
   "metadata": {},
   "outputs": [
    {
     "name": "stdout",
     "output_type": "stream",
     "text": [
      "\n",
      "Evaluating DataLoader...\n",
      "Total samples in DataLoader: 121634\n",
      "\n",
      "First batch shapes:\n",
      "  - his_input_title: torch.Size([64, 50, 150])\n",
      "  - pred_input_title: torch.Size([64, 99, 150])\n",
      "  - targets: torch.Size([64, 99])\n",
      "\n",
      "Evaluation completed.\n",
      "Total predictions generated: 121634\n",
      "First few prediction lengths: [23, 15, 5, 6, 14, 8, 10, 18, 8, 5, 5, 31, 9, 6, 5]\n",
      "\n",
      "Validation against DataFrame:\n",
      "\n",
      "Metrics: {'auc': 0.6217602815537269, 'mrr': 0.40126693766800653, 'ndcg@5': 0.44806942181142745, 'ndcg@10': 0.5150318398125188}\n"
     ]
    }
   ],
   "source": [
    "def evaluate_model(model, dataloader, device):\n",
    "    \"\"\"Evaluate the model and return predictions and labels for metric calculation.\"\"\"\n",
    "    model.eval()\n",
    "    all_predictions = []\n",
    "    all_labels = []\n",
    "\n",
    "    print(\"\\nEvaluating DataLoader...\")\n",
    "    total_samples = len(dataloader.dataset)\n",
    "    print(f\"Total samples in DataLoader: {total_samples}\")\n",
    "\n",
    "    with torch.no_grad():\n",
    "        for batch_idx, (inputs, targets, impression_ids) in enumerate(dataloader):\n",
    "            his_input_title, his_input_time, pred_input_title = inputs\n",
    "\n",
    "            if batch_idx == 0:  # Debug first batch shapes\n",
    "                print(\"\\nFirst batch shapes:\")\n",
    "                print(f\"  - his_input_title: {his_input_title.shape}\")\n",
    "                print(f\"  - pred_input_title: {pred_input_title.shape}\")\n",
    "                print(f\"  - targets: {targets.shape}\")\n",
    "\n",
    "            # Move data to device\n",
    "            his_input_title = his_input_title.to(device)\n",
    "            his_input_time = his_input_time.to(device)\n",
    "            pred_input_title = pred_input_title.to(device)\n",
    "            targets = targets.to(device)\n",
    "\n",
    "            # Get predictions\n",
    "            predictions = model.predict(his_input_title, his_input_time, pred_input_title)\n",
    "            predictions = predictions.cpu().numpy()\n",
    "            targets = targets.cpu().numpy()\n",
    "\n",
    "            # Process each sample in the batch\n",
    "            batch_size = predictions.shape[0]\n",
    "            for sample_idx in range(batch_size):\n",
    "                pred = predictions[sample_idx]\n",
    "                label = targets[sample_idx]\n",
    "\n",
    "                # Create valid_mask where label is not equal to the padding value (-1)\n",
    "                valid_mask = (label != -1)\n",
    "                sample_preds = pred[valid_mask]\n",
    "                sample_labels = label[valid_mask]\n",
    "\n",
    "                if len(sample_labels) == 0:\n",
    "                    continue  # Skip empty samples\n",
    "\n",
    "                # Ensure that there is at least one positive and one negative label\n",
    "                if len(np.unique(sample_labels)) < 2:\n",
    "                    continue  # Skip samples with only one class\n",
    "\n",
    "                all_predictions.append(sample_preds.tolist())\n",
    "                all_labels.append(sample_labels.tolist())\n",
    "\n",
    "    print(\"\\nEvaluation completed.\")\n",
    "    print(f\"Total predictions generated: {len(all_predictions)}\")\n",
    "    print(f\"First few prediction lengths: {[len(x) for x in all_predictions[:15]]}\")\n",
    "    return all_labels, all_predictions\n",
    "\n",
    "\n",
    "# Evaluate the model\n",
    "labels_list, scores_list = evaluate_model(model, val_dataloader_temp, device)\n",
    "\n",
    "# Validate predictions against the DataFrame\n",
    "print(\"\\nValidation against DataFrame:\")\n",
    "if len(scores_list) != len(df_validation):\n",
    "    print(\"WARNING: Length mismatch!\")\n",
    "    print(f\"  - Number of predictions: {len(scores_list)}\")\n",
    "    print(f\"  - Number of rows in DataFrame: {len(df_validation)}\")\n",
    "\n",
    "# Compute metrics\n",
    "metrics = MetricEvaluator(\n",
    "    labels=labels_list,\n",
    "    predictions=scores_list,\n",
    "    metric_functions=[\n",
    "        AucScore(),\n",
    "        MrrScore(),\n",
    "        NdcgScore(k=5),\n",
    "        NdcgScore(k=10)\n",
    "    ],\n",
    ")\n",
    "results = metrics.evaluate()\n",
    "print(\"\\nMetrics:\", results.evaluations)"
   ]
  },
  {
   "cell_type": "code",
   "execution_count": 22,
   "metadata": {},
   "outputs": [
    {
     "name": "stdout",
     "output_type": "stream",
     "text": [
      "FRACTION: 0.5, HISTORY_SIZE: 50\n",
      "Hyperparameters:\n",
      "embedding_dim: 150\n",
      "history_size: 50\n",
      "head_num: 32\n",
      "head_dim: 16\n",
      "attention_hidden_dim: 512\n",
      "optimizer: adam\n",
      "loss: cross_entropy_loss\n",
      "dropout: 0.1\n",
      "learning_rate: 0.0001\n",
      "max_seq_length: 50\n",
      "temperature: 0.05\n",
      "num_negatives: 4\n",
      "weight_decay: 0.001\n",
      "time_window: 2592000\n",
      "min_time_weight: 0.1\n",
      "news_output_dim: 512\n",
      "units_per_layer: [256, 128]\n"
     ]
    }
   ],
   "source": [
    "print(f\"FRACTION: {FRACTION}, HISTORY_SIZE: {HISTORY_SIZE}\")\n",
    "\n",
    "# Filter out special Python attributes and print parameters\n",
    "params = {k: v for k, v in hparams_nrms_torch.__dict__.items() if not k.startswith('__')}\n",
    "print(\"Hyperparameters:\")\n",
    "for key, value in params.items():\n",
    "    print(f\"{key}: {value}\")"
   ]
  },
  {
   "cell_type": "markdown",
   "metadata": {},
   "source": []
  },
  {
   "cell_type": "markdown",
   "metadata": {},
   "source": [
    "## Output Prediction File"
   ]
  },
  {
   "cell_type": "code",
   "execution_count": 23,
   "metadata": {},
   "outputs": [
    {
     "name": "stderr",
     "output_type": "stream",
     "text": [
      "/tmp/ipykernel_22241/2862616127.py:16: MapWithoutReturnDtypeWarning: Calling `map_elements` without specifying `return_dtype` can lead to unpredictable results. Specify `return_dtype` to silence this warning.\n",
      "  df_validation = df_validation.with_columns(\n",
      "121634it [00:00, 170480.42it/s]\n"
     ]
    },
    {
     "name": "stdout",
     "output_type": "stream",
     "text": [
      "Zipping ebnerd_predictions/predictions.txt to ebnerd_predictions/ebnerd_small_predictions-NRMS.zip\n"
     ]
    }
   ],
   "source": [
    "# Create dump directory\n",
    "from utils._python import rank_predictions_by_score, write_submission_file\n",
    "\n",
    "\n",
    "DUMP_DIR = Path(\"ebnerd_predictions\")\n",
    "\n",
    "# Create directory if it doesn't exist\n",
    "DUMP_DIR.mkdir(parents=True, exist_ok=True)\n",
    "\n",
    "# First rank the predictions\n",
    "df_validation = df_validation.with_columns([\n",
    "    pl.Series(\"scores\", scores_list),\n",
    "    pl.Series(\"labels\", labels_list)\n",
    "])\n",
    "\n",
    "df_validation = df_validation.with_columns(\n",
    "    pl.col(\"scores\")\n",
    "    .map_elements(lambda x: list(rank_predictions_by_score(x)))\n",
    "    .alias(\"ranked_scores\")\n",
    ")\n",
    "\n",
    "# Write submission file\n",
    "write_submission_file(\n",
    "    impression_ids=df_validation[DEFAULT_IMPRESSION_ID_COL],\n",
    "    prediction_scores=df_validation[\"ranked_scores\"],\n",
    "    path=DUMP_DIR.joinpath(\"predictions.txt\"),\n",
    "    filename_zip=f\"{DATASPLIT}_predictions-{MODEL_NAME}.zip\",\n",
    ")"
   ]
  },
  {
   "cell_type": "markdown",
   "metadata": {},
   "source": [
    "## References\n",
    "\n",
    "https://github.com/recommenders-team/recommenders/blob/main/examples/00_quick_start/nrms_MIND.ipynb"
   ]
  }
 ],
 "metadata": {
  "kernelspec": {
   "display_name": "Python 3",
   "language": "python",
   "name": "python3"
  },
  "language_info": {
   "codemirror_mode": {
    "name": "ipython",
    "version": 3
   },
   "file_extension": ".py",
   "mimetype": "text/x-python",
   "name": "python",
   "nbconvert_exporter": "python",
   "pygments_lexer": "ipython3",
   "version": "3.10.12"
  }
 },
 "nbformat": 4,
 "nbformat_minor": 2
}
