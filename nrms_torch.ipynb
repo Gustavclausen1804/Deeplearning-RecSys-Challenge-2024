{
 "cells": [
  {
   "cell_type": "markdown",
   "metadata": {},
   "source": [
    "## Global settings and imports"
   ]
  },
  {
   "cell_type": "code",
   "execution_count": 11,
   "metadata": {},
   "outputs": [
    {
     "ename": "ImportError",
     "evalue": "cannot import name 'DEFAULT_HISTORY_ARTICLE_ID_COL' from 'utils._constants' (/home/miki/Study/2_second/deep learning/Deeplearning-RecSys-Challenge-2024/utils/_constants.py)",
     "output_type": "error",
     "traceback": [
      "\u001b[0;31m---------------------------------------------------------------------------\u001b[0m",
      "\u001b[0;31mImportError\u001b[0m                               Traceback (most recent call last)",
      "Cell \u001b[0;32mIn[11], line 11\u001b[0m\n\u001b[1;32m      8\u001b[0m \u001b[38;5;28;01mfrom\u001b[39;00m \u001b[38;5;21;01mpathlib\u001b[39;00m \u001b[38;5;28;01mimport\u001b[39;00m Path\n\u001b[1;32m      9\u001b[0m \u001b[38;5;28;01mimport\u001b[39;00m \u001b[38;5;21;01mpolars\u001b[39;00m \u001b[38;5;28;01mas\u001b[39;00m \u001b[38;5;21;01mpl\u001b[39;00m\n\u001b[0;32m---> 11\u001b[0m \u001b[38;5;28;01mfrom\u001b[39;00m \u001b[38;5;21;01mutils\u001b[39;00m\u001b[38;5;21;01m.\u001b[39;00m\u001b[38;5;21;01m_constants\u001b[39;00m \u001b[38;5;28;01mimport\u001b[39;00m (\n\u001b[1;32m     12\u001b[0m     DEFAULT_HISTORY_ARTICLE_ID_COL,\n\u001b[1;32m     13\u001b[0m     DEFAULT_CLICKED_ARTICLES_COL,\n\u001b[1;32m     14\u001b[0m     DEFAULT_INVIEW_ARTICLES_COL,\n\u001b[1;32m     15\u001b[0m     DEFAULT_IMPRESSION_ID_COL,\n\u001b[1;32m     16\u001b[0m     DEFAULT_SUBTITLE_COL,\n\u001b[1;32m     17\u001b[0m     DEFAULT_LABELS_COL,\n\u001b[1;32m     18\u001b[0m     DEFAULT_TITLE_COL,\n\u001b[1;32m     19\u001b[0m     DEFAULT_USER_COL,\n\u001b[1;32m     20\u001b[0m )\n\u001b[1;32m     22\u001b[0m \u001b[38;5;28;01mfrom\u001b[39;00m \u001b[38;5;21;01mutils\u001b[39;00m\u001b[38;5;21;01m.\u001b[39;00m\u001b[38;5;21;01m_behaviors\u001b[39;00m \u001b[38;5;28;01mimport\u001b[39;00m (\n\u001b[1;32m     23\u001b[0m     create_binary_labels_column,\n\u001b[1;32m     24\u001b[0m     sampling_strategy_wu2019,\n\u001b[0;32m   (...)\u001b[0m\n\u001b[1;32m     27\u001b[0m     truncate_history,\n\u001b[1;32m     28\u001b[0m )\n\u001b[1;32m     29\u001b[0m \u001b[38;5;28;01mfrom\u001b[39;00m \u001b[38;5;21;01mutils\u001b[39;00m\u001b[38;5;21;01m.\u001b[39;00m\u001b[38;5;21;01m_articles\u001b[39;00m \u001b[38;5;28;01mimport\u001b[39;00m convert_text2encoding_with_transformers\n",
      "\u001b[0;31mImportError\u001b[0m: cannot import name 'DEFAULT_HISTORY_ARTICLE_ID_COL' from 'utils._constants' (/home/miki/Study/2_second/deep learning/Deeplearning-RecSys-Challenge-2024/utils/_constants.py)"
     ]
    }
   ],
   "source": [
    "import sys\n",
    "import torch\n",
    "import torch\n",
    "from torch.utils.data import Dataset, DataLoader\n",
    "import pandas as pd\n",
    "from typing import Dict, List, Optional\n",
    "import numpy as np\n",
    "from pathlib import Path\n",
    "import polars as pl\n",
    "\n",
    "from utils._constants import (\n",
    "    DEFAULT_HISTORY_ARTICLE_ID_COL,\n",
    "    DEFAULT_CLICKED_ARTICLES_COL,\n",
    "    DEFAULT_INVIEW_ARTICLES_COL,\n",
    "    DEFAULT_IMPRESSION_ID_COL,\n",
    "    DEFAULT_SUBTITLE_COL,\n",
    "    DEFAULT_LABELS_COL,\n",
    "    DEFAULT_TITLE_COL,\n",
    "    DEFAULT_USER_COL,\n",
    ")\n",
    "\n",
    "from utils._behaviors import (\n",
    "    create_binary_labels_column,\n",
    "    sampling_strategy_wu2019,\n",
    "    add_known_user_column,\n",
    "    add_prediction_scores,\n",
    "    truncate_history,\n",
    ")\n",
    "from utils._articles import convert_text2encoding_with_transformers\n",
    "from utils._polars import concat_str_columns, slice_join_dataframes\n",
    "from utils._articles import create_article_id_to_value_mapping\n",
    "from utils._nlp import get_transformers_word_embeddings\n",
    "from utils._python import write_submission_file, rank_predictions_by_score\n",
    "\n",
    "from models.dataloader import NRMSDataLoader\n",
    "from models.model_config import hparams_nrms\n",
    "from models import NRMSModel\n",
    "\n",
    "# Check Python version\n",
    "print(f\"Python version: {sys.version.split()[0]}\")\n",
    "\n",
    "# Check PyTorch version\n",
    "print(f\"PyTorch version: {torch.__version__}\")\n",
    "\n",
    "# Check GPU availability\n",
    "print(f\"CUDA available: {torch.cuda.is_available()}\")\n",
    "\n",
    "if torch.cuda.is_available():\n",
    "    print(f\"Current GPU device: {torch.cuda.get_device_name()}\")\n",
    "    print(f\"Number of GPUs available: {torch.cuda.device_count()}\")"
   ]
  },
  {
   "cell_type": "markdown",
   "metadata": {},
   "source": [
    "## Prepare parameters"
   ]
  },
  {
   "cell_type": "code",
   "execution_count": 2,
   "metadata": {},
   "outputs": [],
   "source": [
    "epochs = 5\n",
    "seed = 42\n",
    "batch_size = 32\n",
    "\n",
    "# Options: demo, small, large\n",
    "MIND_type = 'demo'"
   ]
  },
  {
   "cell_type": "markdown",
   "metadata": {},
   "source": [
    "## Looking at behaviours and history"
   ]
  },
  {
   "cell_type": "code",
   "execution_count": 3,
   "metadata": {},
   "outputs": [
    {
     "name": "stdout",
     "output_type": "stream",
     "text": [
      "Behaviors columns: Index(['impression_id', 'article_id', 'impression_time', 'read_time',\n",
      "       'scroll_percentage', 'device_type', 'article_ids_inview',\n",
      "       'article_ids_clicked', 'user_id', 'is_sso_user', 'gender', 'postcode',\n",
      "       'age', 'is_subscriber', 'session_id', 'next_read_time',\n",
      "       'next_scroll_percentage'],\n",
      "      dtype='object')\n"
     ]
    }
   ],
   "source": [
    "# Let's first check the data structure\n",
    "behaviors_path = Path(\"ebnerd_demo/train/behaviors.parquet\")\n",
    "df = pd.read_parquet(behaviors_path)\n",
    "print(\"Behaviors columns:\", df.columns)"
   ]
  },
  {
   "cell_type": "code",
   "execution_count": 4,
   "metadata": {},
   "outputs": [
    {
     "name": "stdout",
     "output_type": "stream",
     "text": [
      "\n",
      "History file columns: Index(['user_id', 'impression_time_fixed', 'scroll_percentage_fixed',\n",
      "       'article_id_fixed', 'read_time_fixed'],\n",
      "      dtype='object')\n",
      "\n",
      "First row of history: user_id                                                                13538\n",
      "impression_time_fixed      [2023-04-27T10:17:43.000000, 2023-04-27T10:18:...\n",
      "scroll_percentage_fixed    [100.0, 35.0, 100.0, 24.0, 100.0, 23.0, 100.0,...\n",
      "article_id_fixed           [9738663, 9738569, 9738663, 9738490, 9738663, ...\n",
      "read_time_fixed            [17.0, 12.0, 4.0, 5.0, 4.0, 9.0, 5.0, 46.0, 11...\n",
      "Name: 0, dtype: object\n"
     ]
    }
   ],
   "source": [
    "# Debug print for history file structure\n",
    "history_df = pd.read_parquet(\"ebnerd_demo/train/history.parquet\")\n",
    "print(\"\\nHistory file columns:\", history_df.columns)\n",
    "print(\"\\nFirst row of history:\", history_df.iloc[0])"
   ]
  },
  {
   "cell_type": "markdown",
   "metadata": {},
   "source": [
    "## Download and load data"
   ]
  },
  {
   "cell_type": "code",
   "execution_count": 7,
   "metadata": {},
   "outputs": [
    {
     "ename": "NameError",
     "evalue": "name 'PATH' is not defined",
     "output_type": "error",
     "traceback": [
      "\u001b[0;31m---------------------------------------------------------------------------\u001b[0m",
      "\u001b[0;31mNameError\u001b[0m                                 Traceback (most recent call last)",
      "Cell \u001b[0;32mIn[7], line 39\u001b[0m\n\u001b[1;32m     35\u001b[0m HISTORY_SIZE \u001b[38;5;241m=\u001b[39m \u001b[38;5;241m10\u001b[39m\n\u001b[1;32m     36\u001b[0m FRACTION \u001b[38;5;241m=\u001b[39m \u001b[38;5;241m0.01\u001b[39m\n\u001b[1;32m     38\u001b[0m df_train \u001b[38;5;241m=\u001b[39m (\n\u001b[0;32m---> 39\u001b[0m     ebnerd_from_path(\u001b[43mPATH\u001b[49m\u001b[38;5;241m.\u001b[39mjoinpath(DATASPLIT, \u001b[38;5;124m\"\u001b[39m\u001b[38;5;124mtrain\u001b[39m\u001b[38;5;124m\"\u001b[39m), history_size\u001b[38;5;241m=\u001b[39mHISTORY_SIZE)\n\u001b[1;32m     40\u001b[0m     \u001b[38;5;241m.\u001b[39mselect(COLUMNS)\n\u001b[1;32m     41\u001b[0m     \u001b[38;5;241m.\u001b[39mpipe(\n\u001b[1;32m     42\u001b[0m         sampling_strategy_wu2019,\n\u001b[1;32m     43\u001b[0m         npratio\u001b[38;5;241m=\u001b[39m\u001b[38;5;241m4\u001b[39m,\n\u001b[1;32m     44\u001b[0m         shuffle\u001b[38;5;241m=\u001b[39m\u001b[38;5;28;01mTrue\u001b[39;00m,\n\u001b[1;32m     45\u001b[0m         with_replacement\u001b[38;5;241m=\u001b[39m\u001b[38;5;28;01mTrue\u001b[39;00m,\n\u001b[1;32m     46\u001b[0m         seed\u001b[38;5;241m=\u001b[39m\u001b[38;5;241m123\u001b[39m,\n\u001b[1;32m     47\u001b[0m     )\n\u001b[1;32m     48\u001b[0m     \u001b[38;5;241m.\u001b[39mpipe(create_binary_labels_column)\n\u001b[1;32m     49\u001b[0m     \u001b[38;5;241m.\u001b[39msample(fraction\u001b[38;5;241m=\u001b[39mFRACTION)\n\u001b[1;32m     50\u001b[0m )\n\u001b[1;32m     51\u001b[0m \u001b[38;5;66;03m# =>\u001b[39;00m\n\u001b[1;32m     52\u001b[0m df_validation \u001b[38;5;241m=\u001b[39m (\n\u001b[1;32m     53\u001b[0m     ebnerd_from_path(PATH\u001b[38;5;241m.\u001b[39mjoinpath(DATASPLIT, \u001b[38;5;124m\"\u001b[39m\u001b[38;5;124mvalidation\u001b[39m\u001b[38;5;124m\"\u001b[39m), history_size\u001b[38;5;241m=\u001b[39mHISTORY_SIZE)\n\u001b[1;32m     54\u001b[0m     \u001b[38;5;241m.\u001b[39mselect(COLUMNS)\n\u001b[1;32m     55\u001b[0m     \u001b[38;5;241m.\u001b[39mpipe(create_binary_labels_column)\n\u001b[1;32m     56\u001b[0m     \u001b[38;5;241m.\u001b[39msample(fraction\u001b[38;5;241m=\u001b[39mFRACTION)\n\u001b[1;32m     57\u001b[0m )\n",
      "\u001b[0;31mNameError\u001b[0m: name 'PATH' is not defined"
     ]
    }
   ],
   "source": [
    "def ebnerd_from_path(path: Path, history_size: int = 30) -> pl.DataFrame:\n",
    "    \"\"\"\n",
    "    Load ebnerd - function\n",
    "    \"\"\"\n",
    "    df_history = (\n",
    "        pl.scan_parquet(path.joinpath(\"history.parquet\"))\n",
    "        .select(DEFAULT_USER_COL, DEFAULT_HISTORY_ARTICLE_ID_COL)\n",
    "        .pipe(\n",
    "            truncate_history,\n",
    "            column=DEFAULT_HISTORY_ARTICLE_ID_COL,\n",
    "            history_size=history_size,\n",
    "            padding_value=0,\n",
    "            enable_warning=False,\n",
    "        )\n",
    "    )\n",
    "    df_behaviors = (\n",
    "        pl.scan_parquet(path.joinpath(\"behaviors.parquet\"))\n",
    "        .collect()\n",
    "        .pipe(\n",
    "            slice_join_dataframes,\n",
    "            df2=df_history.collect(),\n",
    "            on=DEFAULT_USER_COL,\n",
    "            how=\"left\",\n",
    "        )\n",
    "    )\n",
    "    return df_behaviors\n",
    "\n",
    "COLUMNS = [\n",
    "    DEFAULT_USER_COL,\n",
    "    DEFAULT_HISTORY_ARTICLE_ID_COL,\n",
    "    DEFAULT_INVIEW_ARTICLES_COL,\n",
    "    DEFAULT_CLICKED_ARTICLES_COL,\n",
    "    DEFAULT_IMPRESSION_ID_COL,\n",
    "]\n",
    "HISTORY_SIZE = 10\n",
    "FRACTION = 0.01\n",
    "\n",
    "df_train = (\n",
    "    ebnerd_from_path(PATH.joinpath(DATASPLIT, \"train\"), history_size=HISTORY_SIZE)\n",
    "    .select(COLUMNS)\n",
    "    .pipe(\n",
    "        sampling_strategy_wu2019,\n",
    "        npratio=4,\n",
    "        shuffle=True,\n",
    "        with_replacement=True,\n",
    "        seed=123,\n",
    "    )\n",
    "    .pipe(create_binary_labels_column)\n",
    "    .sample(fraction=FRACTION)\n",
    ")\n",
    "# =>\n",
    "df_validation = (\n",
    "    ebnerd_from_path(PATH.joinpath(DATASPLIT, \"validation\"), history_size=HISTORY_SIZE)\n",
    "    .select(COLUMNS)\n",
    "    .pipe(create_binary_labels_column)\n",
    "    .sample(fraction=FRACTION)\n",
    ")\n",
    "df_train.head(2)"
   ]
  },
  {
   "cell_type": "markdown",
   "metadata": {},
   "source": [
    "## Create hyper-parameters"
   ]
  },
  {
   "cell_type": "code",
   "execution_count": null,
   "metadata": {},
   "outputs": [],
   "source": []
  },
  {
   "cell_type": "markdown",
   "metadata": {},
   "source": [
    "## Train the NRMS model"
   ]
  },
  {
   "cell_type": "code",
   "execution_count": null,
   "metadata": {},
   "outputs": [],
   "source": []
  },
  {
   "cell_type": "markdown",
   "metadata": {},
   "source": [
    "## Save the model"
   ]
  },
  {
   "cell_type": "code",
   "execution_count": null,
   "metadata": {},
   "outputs": [],
   "source": []
  },
  {
   "cell_type": "markdown",
   "metadata": {},
   "source": [
    "## Output Prediction File"
   ]
  },
  {
   "cell_type": "code",
   "execution_count": null,
   "metadata": {},
   "outputs": [],
   "source": []
  },
  {
   "cell_type": "markdown",
   "metadata": {},
   "source": [
    "## References\n",
    "\n",
    "https://github.com/recommenders-team/recommenders/blob/main/examples/00_quick_start/nrms_MIND.ipynb"
   ]
  }
 ],
 "metadata": {
  "kernelspec": {
   "display_name": "Python 3",
   "language": "python",
   "name": "python3"
  },
  "language_info": {
   "codemirror_mode": {
    "name": "ipython",
    "version": 3
   },
   "file_extension": ".py",
   "mimetype": "text/x-python",
   "name": "python",
   "nbconvert_exporter": "python",
   "pygments_lexer": "ipython3",
   "version": "3.10.12"
  }
 },
 "nbformat": 4,
 "nbformat_minor": 2
}
